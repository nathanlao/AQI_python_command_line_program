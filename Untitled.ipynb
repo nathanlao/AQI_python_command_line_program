{
 "cells": [
  {
   "cell_type": "code",
   "execution_count": 1,
   "id": "048562a1",
   "metadata": {},
   "outputs": [],
   "source": [
    "import requests\n",
    "import json\n",
    "import pandas as pd"
   ]
  },
  {
   "cell_type": "code",
   "execution_count": 2,
   "id": "3660239c",
   "metadata": {},
   "outputs": [
    {
     "data": {
      "text/html": [
       "<div>\n",
       "<style scoped>\n",
       "    .dataframe tbody tr th:only-of-type {\n",
       "        vertical-align: middle;\n",
       "    }\n",
       "\n",
       "    .dataframe tbody tr th {\n",
       "        vertical-align: top;\n",
       "    }\n",
       "\n",
       "    .dataframe thead th {\n",
       "        text-align: right;\n",
       "    }\n",
       "</style>\n",
       "<table border=\"1\" class=\"dataframe\">\n",
       "  <thead>\n",
       "    <tr style=\"text-align: right;\">\n",
       "      <th></th>\n",
       "      <th>status</th>\n",
       "      <th>data</th>\n",
       "    </tr>\n",
       "  </thead>\n",
       "  <tbody>\n",
       "    <tr>\n",
       "      <th>aqi</th>\n",
       "      <td>ok</td>\n",
       "      <td>10</td>\n",
       "    </tr>\n",
       "    <tr>\n",
       "      <th>attributions</th>\n",
       "      <td>ok</td>\n",
       "      <td>[{'url': 'https://www2.gov.bc.ca/gov/content/e...</td>\n",
       "    </tr>\n",
       "    <tr>\n",
       "      <th>city</th>\n",
       "      <td>ok</td>\n",
       "      <td>{'geo': [49.2794, -122.9711], 'name': 'Burnaby...</td>\n",
       "    </tr>\n",
       "    <tr>\n",
       "      <th>debug</th>\n",
       "      <td>ok</td>\n",
       "      <td>{'sync': '2022-11-01T11:58:46+09:00'}</td>\n",
       "    </tr>\n",
       "    <tr>\n",
       "      <th>dominentpol</th>\n",
       "      <td>ok</td>\n",
       "      <td>pm25</td>\n",
       "    </tr>\n",
       "    <tr>\n",
       "      <th>forecast</th>\n",
       "      <td>ok</td>\n",
       "      <td>{'daily': {'o3': [{'avg': 11, 'day': '2022-10-...</td>\n",
       "    </tr>\n",
       "    <tr>\n",
       "      <th>iaqi</th>\n",
       "      <td>ok</td>\n",
       "      <td>{'h': {'v': 92.5}, 'no2': {'v': 6.6}, 'o3': {'...</td>\n",
       "    </tr>\n",
       "    <tr>\n",
       "      <th>idx</th>\n",
       "      <td>ok</td>\n",
       "      <td>4219</td>\n",
       "    </tr>\n",
       "    <tr>\n",
       "      <th>time</th>\n",
       "      <td>ok</td>\n",
       "      <td>{'s': '2022-10-31 18:00:00', 'tz': '-07:00', '...</td>\n",
       "    </tr>\n",
       "  </tbody>\n",
       "</table>\n",
       "</div>"
      ],
      "text/plain": [
       "             status                                               data\n",
       "aqi              ok                                                 10\n",
       "attributions     ok  [{'url': 'https://www2.gov.bc.ca/gov/content/e...\n",
       "city             ok  {'geo': [49.2794, -122.9711], 'name': 'Burnaby...\n",
       "debug            ok              {'sync': '2022-11-01T11:58:46+09:00'}\n",
       "dominentpol      ok                                               pm25\n",
       "forecast         ok  {'daily': {'o3': [{'avg': 11, 'day': '2022-10-...\n",
       "iaqi             ok  {'h': {'v': 92.5}, 'no2': {'v': 6.6}, 'o3': {'...\n",
       "idx              ok                                               4219\n",
       "time             ok  {'s': '2022-10-31 18:00:00', 'tz': '-07:00', '..."
      ]
     },
     "execution_count": 2,
     "metadata": {},
     "output_type": "execute_result"
    }
   ],
   "source": [
    "token = 'd2a743077d1475b52b69534c6208e2d5fff7de2c'\n",
    "url = f'https://api.waqi.info/feed/here/?token={token}'\n",
    "aqi_data = pd.read_json(url)\n",
    "aqi_data"
   ]
  },
  {
   "cell_type": "code",
   "execution_count": null,
   "id": "dde8a8c3",
   "metadata": {},
   "outputs": [],
   "source": []
  }
 ],
 "metadata": {
  "kernelspec": {
   "display_name": "Python 3 (ipykernel)",
   "language": "python",
   "name": "python3"
  },
  "language_info": {
   "codemirror_mode": {
    "name": "ipython",
    "version": 3
   },
   "file_extension": ".py",
   "mimetype": "text/x-python",
   "name": "python",
   "nbconvert_exporter": "python",
   "pygments_lexer": "ipython3",
   "version": "3.9.12"
  }
 },
 "nbformat": 4,
 "nbformat_minor": 5
}
